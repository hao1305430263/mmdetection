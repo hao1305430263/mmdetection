{
 "cells": [
  {
   "cell_type": "code",
   "execution_count": 1,
   "metadata": {
    "collapsed": true
   },
   "outputs": [
    {
     "name": "stdout",
     "output_type": "stream",
     "text": [
      "loading annotations into memory...\n",
      "Done (t=0.01s)\n",
      "creating index...\n",
      "index created!\n",
      "loading annotations into memory...\n",
      "Done (t=0.01s)\n",
      "creating index...\n",
      "index created!\n"
     ]
    },
    {
     "name": "stderr",
     "output_type": "stream",
     "text": [
      "/home/haoyuanbo/Projects/mmdetection/mmdet/datasets/my_custom.py:98: UserWarning: The used MMCV version does not have get_local_path. We treat the /home/haoyuanbo/Projects/MOD-haouanbo/datasets/KAIST_sanitized_annotations/annotations/test_thermal_kaist_annotation.json, /home/haoyuanbo/Projects/MOD-haouanbo/datasets/KAIST_sanitized_annotations/annotations/test_thermal_kaist_annotation.json as local paths and it might cause errors if the path is not a local path. Please use MMCV>= 1.3.16 if you meet errors.\n",
      "  warnings.warn(\n",
      "/home/haoyuanbo/Projects/mmdetection/mmdet/datasets/my_custom.py:198: UserWarning: CustomDataset does not support filtering empty gt images.\n",
      "  warnings.warn(\"CustomDataset does not support filtering empty gt images.\")\n"
     ]
    }
   ],
   "source": [
    "from mmdet.datasets.my_custom import my_CustomDataset\n",
    "from mmdet.datasets.pipelines.my_loading import  my_LoadImageFromFile\n",
    "from mmdet.datasets.pipelines.loading import  LoadImageFromFile\n",
    "\n",
    "demodata = my_CustomDataset(\n",
    "    ann_file0=\"/home/haoyuanbo/Projects/MOD-haouanbo/datasets/KAIST_sanitized_annotations/annotations/test_thermal_kaist_annotation.json\",\n",
    "    ann_file1=\"/home/haoyuanbo/Projects/MOD-haouanbo/datasets/KAIST_sanitized_annotations/annotations/test_thermal_kaist_annotation.json\",\n",
    "    pipeline=[LoadImageFromFile]\n",
    ")"
   ]
  },
  {
   "cell_type": "code",
   "execution_count": 14,
   "metadata": {},
   "outputs": [],
   "source": [
    "datainfo = demodata.data_infos"
   ]
  },
  {
   "cell_type": "code",
   "execution_count": 13,
   "metadata": {},
   "outputs": [
    {
     "name": "stdout",
     "output_type": "stream",
     "text": [
      "{'id': 0, 'height': 512, 'width': 640, 'file_name': '/home/SSD/KAIST/raw_data/set06/V000/lwir/I00019.jpg', 'filename': '/home/SSD/KAIST/raw_data/set06/V000/lwir/I00019.jpg'}\n",
      " \n",
      "LoadImageFromFile(to_float32={'id': 0, 'height': 512, 'width': 640, 'file_name': '/home/SSD/KAIST/raw_data/set06/V000/lwir/I00019.jpg', 'filename': '/home/SSD/KAIST/raw_data/set06/V000/lwir/I00019.jpg'}, color_type='color', channel_order='bgr', file_client_args={'backend': 'disk'})\n"
     ]
    }
   ],
   "source": [
    "print(datainfo[0][0])\n",
    "print(\" \")\n",
    "result = demodata.pipeline(datainfo[0][0])\n",
    "print(result)"
   ]
  },
  {
   "cell_type": "code",
   "execution_count": 20,
   "metadata": {},
   "outputs": [
    {
     "name": "stdout",
     "output_type": "stream",
     "text": [
      "{'id': 0, 'height': 512, 'width': 640, 'file_name': '/home/SSD/KAIST/raw_data/set06/V000/lwir/I00019.jpg', 'filename': '/home/SSD/KAIST/raw_data/set06/V000/lwir/I00019.jpg', 'img_prefix': '', 'seg_prefix': None, 'proposal_file': None, 'bbox_fields': [], 'mask_fields': [], 'seg_fields': []}\n",
      " \n",
      "{'id': 0, 'height': 512, 'width': 640, 'file_name': '/home/SSD/KAIST/raw_data/set06/V000/lwir/I00019.jpg', 'filename': '/home/SSD/KAIST/raw_data/set06/V000/lwir/I00019.jpg', 'img_prefix': '', 'seg_prefix': None, 'proposal_file': None, 'bbox_fields': [], 'mask_fields': [], 'seg_fields': []}\n",
      " \n"
     ]
    },
    {
     "ename": "KeyError",
     "evalue": "'img_info'",
     "output_type": "error",
     "traceback": [
      "\u001b[0;31m---------------------------------------------------------------------------\u001b[0m",
      "\u001b[0;31mKeyError\u001b[0m                                  Traceback (most recent call last)",
      "\u001b[1;32m/home/haoyuanbo/Projects/mmdetection/debug/dataset.ipynb Cell 4\u001b[0m in \u001b[0;36m<cell line: 7>\u001b[0;34m()\u001b[0m\n\u001b[1;32m      <a href='vscode-notebook-cell://ssh-remote%2B192.168.8.10/home/haoyuanbo/Projects/mmdetection/debug/dataset.ipynb#W6sdnNjb2RlLXJlbW90ZQ%3D%3D?line=4'>5</a>\u001b[0m \u001b[39mprint\u001b[39m(\u001b[39m\"\u001b[39m\u001b[39m \u001b[39m\u001b[39m\"\u001b[39m)\n\u001b[1;32m      <a href='vscode-notebook-cell://ssh-remote%2B192.168.8.10/home/haoyuanbo/Projects/mmdetection/debug/dataset.ipynb#W6sdnNjb2RlLXJlbW90ZQ%3D%3D?line=5'>6</a>\u001b[0m t \u001b[39m=\u001b[39mLoadImageFromFile()\n\u001b[0;32m----> <a href='vscode-notebook-cell://ssh-remote%2B192.168.8.10/home/haoyuanbo/Projects/mmdetection/debug/dataset.ipynb#W6sdnNjb2RlLXJlbW90ZQ%3D%3D?line=6'>7</a>\u001b[0m result \u001b[39m=\u001b[39m t\u001b[39m.\u001b[39;49m\u001b[39m__call__\u001b[39;49m(datainfo[\u001b[39m0\u001b[39;49m][\u001b[39m0\u001b[39;49m])\n",
      "File \u001b[0;32m~/Projects/mmdetection/mmdet/datasets/pipelines/loading.py:63\u001b[0m, in \u001b[0;36m__call__\u001b[0;34m(self, results)\u001b[0m\n\u001b[1;32m     60\u001b[0m \u001b[39mif\u001b[39;00m \u001b[39mself\u001b[39m\u001b[39m.\u001b[39mfile_client \u001b[39mis\u001b[39;00m \u001b[39mNone\u001b[39;00m:\n\u001b[1;32m     61\u001b[0m     \u001b[39mself\u001b[39m\u001b[39m.\u001b[39mfile_client \u001b[39m=\u001b[39m mmcv\u001b[39m.\u001b[39mFileClient(\u001b[39m*\u001b[39m\u001b[39m*\u001b[39m\u001b[39mself\u001b[39m\u001b[39m.\u001b[39mfile_client_args)\n\u001b[0;32m---> 63\u001b[0m \u001b[39mif\u001b[39;00m results[\u001b[39m\"\u001b[39m\u001b[39mimg_prefix\u001b[39m\u001b[39m\"\u001b[39m] \u001b[39mis\u001b[39;00m \u001b[39mnot\u001b[39;00m \u001b[39mNone\u001b[39;00m:\n\u001b[1;32m     64\u001b[0m     filename \u001b[39m=\u001b[39m osp\u001b[39m.\u001b[39mjoin(results[\u001b[39m\"\u001b[39m\u001b[39mimg_prefix\u001b[39m\u001b[39m\"\u001b[39m], results[\u001b[39m\"\u001b[39m\u001b[39mimg_info\u001b[39m\u001b[39m\"\u001b[39m][\u001b[39m\"\u001b[39m\u001b[39mfilename\u001b[39m\u001b[39m\"\u001b[39m])\n\u001b[1;32m     65\u001b[0m \u001b[39melse\u001b[39;00m:\n",
      "\u001b[0;31mKeyError\u001b[0m: 'img_info'"
     ]
    }
   ],
   "source": [
    "print(datainfo[0][0])\n",
    "print(\" \")\n",
    "res = demodata.pre_pipeline(datainfo[0][0])\n",
    "print(datainfo[0][0])\n",
    "print(\" \")\n",
    "t =LoadImageFromFile()\n",
    "result = t.__call__(datainfo[0][0])"
   ]
  }
 ],
 "metadata": {
  "kernelspec": {
   "display_name": "Python 3.8.13 ('openmmlab')",
   "language": "python",
   "name": "python3"
  },
  "language_info": {
   "codemirror_mode": {
    "name": "ipython",
    "version": 3
   },
   "file_extension": ".py",
   "mimetype": "text/x-python",
   "name": "python",
   "nbconvert_exporter": "python",
   "pygments_lexer": "ipython3",
   "version": "3.8.13"
  },
  "vscode": {
   "interpreter": {
    "hash": "cd856773c76af8030787697cb32e13f34ef7261309d8389b04aab036a1d93f47"
   }
  }
 },
 "nbformat": 4,
 "nbformat_minor": 0
}
