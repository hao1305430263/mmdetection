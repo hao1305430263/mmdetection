{
 "cells": [
  {
   "cell_type": "code",
   "execution_count": 1,
   "metadata": {
    "collapsed": true
   },
   "outputs": [
    {
     "name": "stdout",
     "output_type": "stream",
     "text": [
      "loading annotations into memory...\n",
      "Done (t=0.02s)\n",
      "creating index...\n",
      "index created!\n",
      "loading annotations into memory...\n",
      "Done (t=0.01s)\n",
      "creating index...\n",
      "index created!\n"
     ]
    },
    {
     "name": "stderr",
     "output_type": "stream",
     "text": [
      "/home/haoyuanbo/Projects/mmdetection/mmdet/datasets/my_custom.py:98: UserWarning: The used MMCV version does not have get_local_path. We treat the /home/haoyuanbo/Projects/MOD-haouanbo/datasets/KAIST_sanitized_annotations/annotations/test_thermal_kaist_annotation.json, /home/haoyuanbo/Projects/MOD-haouanbo/datasets/KAIST_sanitized_annotations/annotations/test_thermal_kaist_annotation.json as local paths and it might cause errors if the path is not a local path. Please use MMCV>= 1.3.16 if you meet errors.\n",
      "  warnings.warn(\n",
      "/home/haoyuanbo/Projects/mmdetection/mmdet/datasets/my_custom.py:198: UserWarning: CustomDataset does not support filtering empty gt images.\n",
      "  warnings.warn(\"CustomDataset does not support filtering empty gt images.\")\n"
     ]
    }
   ],
   "source": [
    "from mmdet.datasets.my_custom import my_CustomDataset\n",
    "\n",
    "demodata = my_CustomDataset(\n",
    "    ann_file0=\"/home/haoyuanbo/Projects/MOD-haouanbo/datasets/KAIST_sanitized_annotations/annotations/test_thermal_kaist_annotation.json\",\n",
    "    ann_file1=\"/home/haoyuanbo/Projects/MOD-haouanbo/datasets/KAIST_sanitized_annotations/annotations/test_thermal_kaist_annotation.json\",\n",
    "    pipeline=[]\n",
    ")\n"
   ]
  }
 ],
 "metadata": {
  "kernelspec": {
   "display_name": "Python 3.8.13 ('openmmlab')",
   "language": "python",
   "name": "python3"
  },
  "language_info": {
   "codemirror_mode": {
    "name": "ipython",
    "version": 3
   },
   "file_extension": ".py",
   "mimetype": "text/x-python",
   "name": "python",
   "nbconvert_exporter": "python",
   "pygments_lexer": "ipython3",
   "version": "3.8.13"
  },
  "vscode": {
   "interpreter": {
    "hash": "cd856773c76af8030787697cb32e13f34ef7261309d8389b04aab036a1d93f47"
   }
  }
 },
 "nbformat": 4,
 "nbformat_minor": 0
}
